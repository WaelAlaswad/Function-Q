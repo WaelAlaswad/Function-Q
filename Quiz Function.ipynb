{
 "cells": [
  {
   "cell_type": "markdown",
   "id": "638b31a0-bdb2-4215-81b0-41fc5a87a34b",
   "metadata": {
    "tags": []
   },
   "source": [
    "### Transform the code you made for calculating the area of a circle into \n",
    "### function that:\n",
    "\n",
    "○ Takes the radius as inputs\n",
    "\n",
    "○ Gives the area as an output\n"
   ]
  },
  {
   "cell_type": "code",
   "execution_count": 3,
   "id": "c199b4b2-d8a5-4021-b427-a8cc117c4583",
   "metadata": {},
   "outputs": [
    {
     "name": "stdin",
     "output_type": "stream",
     "text": [
      "What Is The Circle Radius Required To Calculate The Circle Area in mm ? :  0.2\n"
     ]
    },
    {
     "name": "stdout",
     "output_type": "stream",
     "text": [
      "The Circle Area of 0.2mm Radius is : 1.26 mm2\n"
     ]
    }
   ],
   "source": [
    "circleRadius=float(input(\"What Is The Circle Radius Required To Calculate The Circle Area in mm ? : \"))\n",
    "circleAreaFormula= float(2*3.14*circleRadius)\n",
    "\n",
    "def circleArea(circleAreaFormula):\n",
    "    if circleRadius<0:\n",
    "        print(\"Can Not Calculate a Circle Area with Radius less than 0mm\")\n",
    "    else:\n",
    "        print( f\"The Circle Area of {circleRadius}mm Radius is : {circleAreaFormula:.2f} mm2\" )\n",
    "    \n",
    "circleArea(circleAreaFormula)"
   ]
  },
  {
   "cell_type": "markdown",
   "id": "3e81cce6-690c-422d-8c26-9029d4bdd3c7",
   "metadata": {},
   "source": [
    "# write a function to calculate the factorial of \n",
    "### a given number and returns the result:"
   ]
  },
  {
   "cell_type": "markdown",
   "id": "40af4086-f755-4537-abf2-b7a21171babb",
   "metadata": {},
   "source": [
    "○ 1! = 1\n",
    "\n",
    "○ 3! = 3*2*1\n",
    "\n",
    "○ 5! = 5*4*3*2*1\n"
   ]
  },
  {
   "cell_type": "code",
   "execution_count": 1,
   "id": "534fb5c7-6731-4df8-b0b3-a62ee8dc0770",
   "metadata": {},
   "outputs": [],
   "source": [
    "number1= 1\n",
    "number3= 3\n",
    "number5= 3\n"
   ]
  },
  {
   "cell_type": "code",
   "execution_count": 2,
   "id": "5d5f5f0d-637e-4ce9-add6-f8651b2772c8",
   "metadata": {},
   "outputs": [
    {
     "name": "stdout",
     "output_type": "stream",
     "text": [
      "the factorial of 1 is : 1\n",
      "the factorial of 3 is : 6\n",
      "the factorial of 3 is : 120\n"
     ]
    }
   ],
   "source": [
    "number=0 \n",
    "def numberFactorial(number):\n",
    "        number=0 \n",
    "           \n",
    "        print(f\"the factorial of {number1} is : \"+ str(1))\n",
    "        print(f\"the factorial of {number3} is : \"+ str(3*2*1))\n",
    "        print(f\"the factorial of {number5} is : \"+ str(5*4*3*2*1))\n",
    "        \n",
    "numberFactorial(number)"
   ]
  },
  {
   "cell_type": "code",
   "execution_count": null,
   "id": "2abf5bc0-142f-4f64-a0d1-4b2d34cf2f53",
   "metadata": {},
   "outputs": [],
   "source": []
  },
  {
   "cell_type": "code",
   "execution_count": null,
   "id": "a56b5b06-1364-4272-b413-f77d1f47962d",
   "metadata": {},
   "outputs": [],
   "source": []
  }
 ],
 "metadata": {
  "kernelspec": {
   "display_name": "Python 3 (ipykernel)",
   "language": "python",
   "name": "python3"
  },
  "language_info": {
   "codemirror_mode": {
    "name": "ipython",
    "version": 3
   },
   "file_extension": ".py",
   "mimetype": "text/x-python",
   "name": "python",
   "nbconvert_exporter": "python",
   "pygments_lexer": "ipython3",
   "version": "3.9.13"
  }
 },
 "nbformat": 4,
 "nbformat_minor": 5
}
